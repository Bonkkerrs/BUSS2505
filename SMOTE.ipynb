{
 "cells": [
  {
   "cell_type": "code",
   "execution_count": 1,
   "id": "fa813484",
   "metadata": {
    "ExecuteTime": {
     "end_time": "2023-05-24T13:21:13.340153Z",
     "start_time": "2023-05-24T13:21:11.947201Z"
    },
    "_cell_guid": "b1076dfc-b9ad-4769-8c92-a6c4dae69d19",
    "_uuid": "8f2839f25d086af736a60e9eeb907d3b93b6e0e5",
    "execution": {
     "iopub.execute_input": "2023-05-17T07:07:06.893581Z",
     "iopub.status.busy": "2023-05-17T07:07:06.893064Z",
     "iopub.status.idle": "2023-05-17T07:07:08.394048Z",
     "shell.execute_reply": "2023-05-17T07:07:08.393115Z"
    },
    "papermill": {
     "duration": 1.519034,
     "end_time": "2023-05-17T07:07:08.396787",
     "exception": false,
     "start_time": "2023-05-17T07:07:06.877753",
     "status": "completed"
    },
    "tags": []
   },
   "outputs": [],
   "source": [
    "import numpy as np\n",
    "import pandas as pd\n",
    "import matplotlib.pyplot as plt\n",
    "import seaborn as sns\n",
    "import warnings\n",
    "warnings.filterwarnings('ignore')"
   ]
  },
  {
   "cell_type": "markdown",
   "id": "6141da9b",
   "metadata": {
    "papermill": {
     "duration": 0.012581,
     "end_time": "2023-05-17T07:07:08.422422",
     "exception": false,
     "start_time": "2023-05-17T07:07:08.409841",
     "status": "completed"
    },
    "tags": []
   },
   "source": [
    "## importing the dataset"
   ]
  },
  {
   "cell_type": "code",
   "execution_count": 2,
   "id": "914defa6",
   "metadata": {
    "ExecuteTime": {
     "end_time": "2023-05-24T13:21:15.277299Z",
     "start_time": "2023-05-24T13:21:14.108954Z"
    },
    "execution": {
     "iopub.execute_input": "2023-05-17T07:07:08.450753Z",
     "iopub.status.busy": "2023-05-17T07:07:08.450015Z",
     "iopub.status.idle": "2023-05-17T07:07:13.257433Z",
     "shell.execute_reply": "2023-05-17T07:07:13.256358Z"
    },
    "papermill": {
     "duration": 4.825068,
     "end_time": "2023-05-17T07:07:13.260459",
     "exception": false,
     "start_time": "2023-05-17T07:07:08.435391",
     "status": "completed"
    },
    "tags": []
   },
   "outputs": [
    {
     "data": {
      "text/html": [
       "<div>\n",
       "<style scoped>\n",
       "    .dataframe tbody tr th:only-of-type {\n",
       "        vertical-align: middle;\n",
       "    }\n",
       "\n",
       "    .dataframe tbody tr th {\n",
       "        vertical-align: top;\n",
       "    }\n",
       "\n",
       "    .dataframe thead th {\n",
       "        text-align: right;\n",
       "    }\n",
       "</style>\n",
       "<table border=\"1\" class=\"dataframe\">\n",
       "  <thead>\n",
       "    <tr style=\"text-align: right;\">\n",
       "      <th></th>\n",
       "      <th>Time</th>\n",
       "      <th>V1</th>\n",
       "      <th>V2</th>\n",
       "      <th>V3</th>\n",
       "      <th>V4</th>\n",
       "      <th>V5</th>\n",
       "      <th>V6</th>\n",
       "      <th>V7</th>\n",
       "      <th>V8</th>\n",
       "      <th>V9</th>\n",
       "      <th>...</th>\n",
       "      <th>V21</th>\n",
       "      <th>V22</th>\n",
       "      <th>V23</th>\n",
       "      <th>V24</th>\n",
       "      <th>V25</th>\n",
       "      <th>V26</th>\n",
       "      <th>V27</th>\n",
       "      <th>V28</th>\n",
       "      <th>Amount</th>\n",
       "      <th>Class</th>\n",
       "    </tr>\n",
       "  </thead>\n",
       "  <tbody>\n",
       "    <tr>\n",
       "      <th>0</th>\n",
       "      <td>0.0</td>\n",
       "      <td>-1.359807</td>\n",
       "      <td>-0.072781</td>\n",
       "      <td>2.536347</td>\n",
       "      <td>1.378155</td>\n",
       "      <td>-0.338321</td>\n",
       "      <td>0.462388</td>\n",
       "      <td>0.239599</td>\n",
       "      <td>0.098698</td>\n",
       "      <td>0.363787</td>\n",
       "      <td>...</td>\n",
       "      <td>-0.018307</td>\n",
       "      <td>0.277838</td>\n",
       "      <td>-0.110474</td>\n",
       "      <td>0.066928</td>\n",
       "      <td>0.128539</td>\n",
       "      <td>-0.189115</td>\n",
       "      <td>0.133558</td>\n",
       "      <td>-0.021053</td>\n",
       "      <td>149.62</td>\n",
       "      <td>0</td>\n",
       "    </tr>\n",
       "    <tr>\n",
       "      <th>1</th>\n",
       "      <td>0.0</td>\n",
       "      <td>1.191857</td>\n",
       "      <td>0.266151</td>\n",
       "      <td>0.166480</td>\n",
       "      <td>0.448154</td>\n",
       "      <td>0.060018</td>\n",
       "      <td>-0.082361</td>\n",
       "      <td>-0.078803</td>\n",
       "      <td>0.085102</td>\n",
       "      <td>-0.255425</td>\n",
       "      <td>...</td>\n",
       "      <td>-0.225775</td>\n",
       "      <td>-0.638672</td>\n",
       "      <td>0.101288</td>\n",
       "      <td>-0.339846</td>\n",
       "      <td>0.167170</td>\n",
       "      <td>0.125895</td>\n",
       "      <td>-0.008983</td>\n",
       "      <td>0.014724</td>\n",
       "      <td>2.69</td>\n",
       "      <td>0</td>\n",
       "    </tr>\n",
       "    <tr>\n",
       "      <th>2</th>\n",
       "      <td>1.0</td>\n",
       "      <td>-1.358354</td>\n",
       "      <td>-1.340163</td>\n",
       "      <td>1.773209</td>\n",
       "      <td>0.379780</td>\n",
       "      <td>-0.503198</td>\n",
       "      <td>1.800499</td>\n",
       "      <td>0.791461</td>\n",
       "      <td>0.247676</td>\n",
       "      <td>-1.514654</td>\n",
       "      <td>...</td>\n",
       "      <td>0.247998</td>\n",
       "      <td>0.771679</td>\n",
       "      <td>0.909412</td>\n",
       "      <td>-0.689281</td>\n",
       "      <td>-0.327642</td>\n",
       "      <td>-0.139097</td>\n",
       "      <td>-0.055353</td>\n",
       "      <td>-0.059752</td>\n",
       "      <td>378.66</td>\n",
       "      <td>0</td>\n",
       "    </tr>\n",
       "    <tr>\n",
       "      <th>3</th>\n",
       "      <td>1.0</td>\n",
       "      <td>-0.966272</td>\n",
       "      <td>-0.185226</td>\n",
       "      <td>1.792993</td>\n",
       "      <td>-0.863291</td>\n",
       "      <td>-0.010309</td>\n",
       "      <td>1.247203</td>\n",
       "      <td>0.237609</td>\n",
       "      <td>0.377436</td>\n",
       "      <td>-1.387024</td>\n",
       "      <td>...</td>\n",
       "      <td>-0.108300</td>\n",
       "      <td>0.005274</td>\n",
       "      <td>-0.190321</td>\n",
       "      <td>-1.175575</td>\n",
       "      <td>0.647376</td>\n",
       "      <td>-0.221929</td>\n",
       "      <td>0.062723</td>\n",
       "      <td>0.061458</td>\n",
       "      <td>123.50</td>\n",
       "      <td>0</td>\n",
       "    </tr>\n",
       "    <tr>\n",
       "      <th>4</th>\n",
       "      <td>2.0</td>\n",
       "      <td>-1.158233</td>\n",
       "      <td>0.877737</td>\n",
       "      <td>1.548718</td>\n",
       "      <td>0.403034</td>\n",
       "      <td>-0.407193</td>\n",
       "      <td>0.095921</td>\n",
       "      <td>0.592941</td>\n",
       "      <td>-0.270533</td>\n",
       "      <td>0.817739</td>\n",
       "      <td>...</td>\n",
       "      <td>-0.009431</td>\n",
       "      <td>0.798278</td>\n",
       "      <td>-0.137458</td>\n",
       "      <td>0.141267</td>\n",
       "      <td>-0.206010</td>\n",
       "      <td>0.502292</td>\n",
       "      <td>0.219422</td>\n",
       "      <td>0.215153</td>\n",
       "      <td>69.99</td>\n",
       "      <td>0</td>\n",
       "    </tr>\n",
       "    <tr>\n",
       "      <th>...</th>\n",
       "      <td>...</td>\n",
       "      <td>...</td>\n",
       "      <td>...</td>\n",
       "      <td>...</td>\n",
       "      <td>...</td>\n",
       "      <td>...</td>\n",
       "      <td>...</td>\n",
       "      <td>...</td>\n",
       "      <td>...</td>\n",
       "      <td>...</td>\n",
       "      <td>...</td>\n",
       "      <td>...</td>\n",
       "      <td>...</td>\n",
       "      <td>...</td>\n",
       "      <td>...</td>\n",
       "      <td>...</td>\n",
       "      <td>...</td>\n",
       "      <td>...</td>\n",
       "      <td>...</td>\n",
       "      <td>...</td>\n",
       "      <td>...</td>\n",
       "    </tr>\n",
       "    <tr>\n",
       "      <th>284802</th>\n",
       "      <td>172786.0</td>\n",
       "      <td>-11.881118</td>\n",
       "      <td>10.071785</td>\n",
       "      <td>-9.834783</td>\n",
       "      <td>-2.066656</td>\n",
       "      <td>-5.364473</td>\n",
       "      <td>-2.606837</td>\n",
       "      <td>-4.918215</td>\n",
       "      <td>7.305334</td>\n",
       "      <td>1.914428</td>\n",
       "      <td>...</td>\n",
       "      <td>0.213454</td>\n",
       "      <td>0.111864</td>\n",
       "      <td>1.014480</td>\n",
       "      <td>-0.509348</td>\n",
       "      <td>1.436807</td>\n",
       "      <td>0.250034</td>\n",
       "      <td>0.943651</td>\n",
       "      <td>0.823731</td>\n",
       "      <td>0.77</td>\n",
       "      <td>0</td>\n",
       "    </tr>\n",
       "    <tr>\n",
       "      <th>284803</th>\n",
       "      <td>172787.0</td>\n",
       "      <td>-0.732789</td>\n",
       "      <td>-0.055080</td>\n",
       "      <td>2.035030</td>\n",
       "      <td>-0.738589</td>\n",
       "      <td>0.868229</td>\n",
       "      <td>1.058415</td>\n",
       "      <td>0.024330</td>\n",
       "      <td>0.294869</td>\n",
       "      <td>0.584800</td>\n",
       "      <td>...</td>\n",
       "      <td>0.214205</td>\n",
       "      <td>0.924384</td>\n",
       "      <td>0.012463</td>\n",
       "      <td>-1.016226</td>\n",
       "      <td>-0.606624</td>\n",
       "      <td>-0.395255</td>\n",
       "      <td>0.068472</td>\n",
       "      <td>-0.053527</td>\n",
       "      <td>24.79</td>\n",
       "      <td>0</td>\n",
       "    </tr>\n",
       "    <tr>\n",
       "      <th>284804</th>\n",
       "      <td>172788.0</td>\n",
       "      <td>1.919565</td>\n",
       "      <td>-0.301254</td>\n",
       "      <td>-3.249640</td>\n",
       "      <td>-0.557828</td>\n",
       "      <td>2.630515</td>\n",
       "      <td>3.031260</td>\n",
       "      <td>-0.296827</td>\n",
       "      <td>0.708417</td>\n",
       "      <td>0.432454</td>\n",
       "      <td>...</td>\n",
       "      <td>0.232045</td>\n",
       "      <td>0.578229</td>\n",
       "      <td>-0.037501</td>\n",
       "      <td>0.640134</td>\n",
       "      <td>0.265745</td>\n",
       "      <td>-0.087371</td>\n",
       "      <td>0.004455</td>\n",
       "      <td>-0.026561</td>\n",
       "      <td>67.88</td>\n",
       "      <td>0</td>\n",
       "    </tr>\n",
       "    <tr>\n",
       "      <th>284805</th>\n",
       "      <td>172788.0</td>\n",
       "      <td>-0.240440</td>\n",
       "      <td>0.530483</td>\n",
       "      <td>0.702510</td>\n",
       "      <td>0.689799</td>\n",
       "      <td>-0.377961</td>\n",
       "      <td>0.623708</td>\n",
       "      <td>-0.686180</td>\n",
       "      <td>0.679145</td>\n",
       "      <td>0.392087</td>\n",
       "      <td>...</td>\n",
       "      <td>0.265245</td>\n",
       "      <td>0.800049</td>\n",
       "      <td>-0.163298</td>\n",
       "      <td>0.123205</td>\n",
       "      <td>-0.569159</td>\n",
       "      <td>0.546668</td>\n",
       "      <td>0.108821</td>\n",
       "      <td>0.104533</td>\n",
       "      <td>10.00</td>\n",
       "      <td>0</td>\n",
       "    </tr>\n",
       "    <tr>\n",
       "      <th>284806</th>\n",
       "      <td>172792.0</td>\n",
       "      <td>-0.533413</td>\n",
       "      <td>-0.189733</td>\n",
       "      <td>0.703337</td>\n",
       "      <td>-0.506271</td>\n",
       "      <td>-0.012546</td>\n",
       "      <td>-0.649617</td>\n",
       "      <td>1.577006</td>\n",
       "      <td>-0.414650</td>\n",
       "      <td>0.486180</td>\n",
       "      <td>...</td>\n",
       "      <td>0.261057</td>\n",
       "      <td>0.643078</td>\n",
       "      <td>0.376777</td>\n",
       "      <td>0.008797</td>\n",
       "      <td>-0.473649</td>\n",
       "      <td>-0.818267</td>\n",
       "      <td>-0.002415</td>\n",
       "      <td>0.013649</td>\n",
       "      <td>217.00</td>\n",
       "      <td>0</td>\n",
       "    </tr>\n",
       "  </tbody>\n",
       "</table>\n",
       "<p>284807 rows × 31 columns</p>\n",
       "</div>"
      ],
      "text/plain": [
       "            Time         V1         V2        V3        V4        V5  \\\n",
       "0            0.0  -1.359807  -0.072781  2.536347  1.378155 -0.338321   \n",
       "1            0.0   1.191857   0.266151  0.166480  0.448154  0.060018   \n",
       "2            1.0  -1.358354  -1.340163  1.773209  0.379780 -0.503198   \n",
       "3            1.0  -0.966272  -0.185226  1.792993 -0.863291 -0.010309   \n",
       "4            2.0  -1.158233   0.877737  1.548718  0.403034 -0.407193   \n",
       "...          ...        ...        ...       ...       ...       ...   \n",
       "284802  172786.0 -11.881118  10.071785 -9.834783 -2.066656 -5.364473   \n",
       "284803  172787.0  -0.732789  -0.055080  2.035030 -0.738589  0.868229   \n",
       "284804  172788.0   1.919565  -0.301254 -3.249640 -0.557828  2.630515   \n",
       "284805  172788.0  -0.240440   0.530483  0.702510  0.689799 -0.377961   \n",
       "284806  172792.0  -0.533413  -0.189733  0.703337 -0.506271 -0.012546   \n",
       "\n",
       "              V6        V7        V8        V9  ...       V21       V22  \\\n",
       "0       0.462388  0.239599  0.098698  0.363787  ... -0.018307  0.277838   \n",
       "1      -0.082361 -0.078803  0.085102 -0.255425  ... -0.225775 -0.638672   \n",
       "2       1.800499  0.791461  0.247676 -1.514654  ...  0.247998  0.771679   \n",
       "3       1.247203  0.237609  0.377436 -1.387024  ... -0.108300  0.005274   \n",
       "4       0.095921  0.592941 -0.270533  0.817739  ... -0.009431  0.798278   \n",
       "...          ...       ...       ...       ...  ...       ...       ...   \n",
       "284802 -2.606837 -4.918215  7.305334  1.914428  ...  0.213454  0.111864   \n",
       "284803  1.058415  0.024330  0.294869  0.584800  ...  0.214205  0.924384   \n",
       "284804  3.031260 -0.296827  0.708417  0.432454  ...  0.232045  0.578229   \n",
       "284805  0.623708 -0.686180  0.679145  0.392087  ...  0.265245  0.800049   \n",
       "284806 -0.649617  1.577006 -0.414650  0.486180  ...  0.261057  0.643078   \n",
       "\n",
       "             V23       V24       V25       V26       V27       V28  Amount  \\\n",
       "0      -0.110474  0.066928  0.128539 -0.189115  0.133558 -0.021053  149.62   \n",
       "1       0.101288 -0.339846  0.167170  0.125895 -0.008983  0.014724    2.69   \n",
       "2       0.909412 -0.689281 -0.327642 -0.139097 -0.055353 -0.059752  378.66   \n",
       "3      -0.190321 -1.175575  0.647376 -0.221929  0.062723  0.061458  123.50   \n",
       "4      -0.137458  0.141267 -0.206010  0.502292  0.219422  0.215153   69.99   \n",
       "...          ...       ...       ...       ...       ...       ...     ...   \n",
       "284802  1.014480 -0.509348  1.436807  0.250034  0.943651  0.823731    0.77   \n",
       "284803  0.012463 -1.016226 -0.606624 -0.395255  0.068472 -0.053527   24.79   \n",
       "284804 -0.037501  0.640134  0.265745 -0.087371  0.004455 -0.026561   67.88   \n",
       "284805 -0.163298  0.123205 -0.569159  0.546668  0.108821  0.104533   10.00   \n",
       "284806  0.376777  0.008797 -0.473649 -0.818267 -0.002415  0.013649  217.00   \n",
       "\n",
       "        Class  \n",
       "0           0  \n",
       "1           0  \n",
       "2           0  \n",
       "3           0  \n",
       "4           0  \n",
       "...       ...  \n",
       "284802      0  \n",
       "284803      0  \n",
       "284804      0  \n",
       "284805      0  \n",
       "284806      0  \n",
       "\n",
       "[284807 rows x 31 columns]"
      ]
     },
     "execution_count": 2,
     "metadata": {},
     "output_type": "execute_result"
    }
   ],
   "source": [
    "data = pd.read_csv('creditcard.csv')\n",
    "data"
   ]
  },
  {
   "cell_type": "code",
   "execution_count": 4,
   "id": "a3d86f42",
   "metadata": {
    "ExecuteTime": {
     "end_time": "2023-05-24T13:21:19.062520Z",
     "start_time": "2023-05-24T13:21:18.355934Z"
    },
    "execution": {
     "iopub.execute_input": "2023-05-17T07:07:13.440213Z",
     "iopub.status.busy": "2023-05-17T07:07:13.439831Z",
     "iopub.status.idle": "2023-05-17T07:07:14.437085Z",
     "shell.execute_reply": "2023-05-17T07:07:14.435613Z"
    },
    "papermill": {
     "duration": 1.015639,
     "end_time": "2023-05-17T07:07:14.440172",
     "exception": false,
     "start_time": "2023-05-17T07:07:13.424533",
     "status": "completed"
    },
    "tags": []
   },
   "outputs": [],
   "source": [
    "data = data.drop_duplicates()"
   ]
  },
  {
   "cell_type": "markdown",
   "id": "c4071f59",
   "metadata": {
    "papermill": {
     "duration": 0.013443,
     "end_time": "2023-05-17T07:07:14.467330",
     "exception": false,
     "start_time": "2023-05-17T07:07:14.453887",
     "status": "completed"
    },
    "tags": []
   },
   "source": [
    "## Normalize the time and amount columns"
   ]
  },
  {
   "cell_type": "code",
   "execution_count": 6,
   "id": "d79ba5ef",
   "metadata": {
    "ExecuteTime": {
     "end_time": "2023-05-24T13:21:20.282797Z",
     "start_time": "2023-05-24T13:21:20.157285Z"
    },
    "execution": {
     "iopub.execute_input": "2023-05-17T07:07:14.497629Z",
     "iopub.status.busy": "2023-05-17T07:07:14.497218Z",
     "iopub.status.idle": "2023-05-17T07:07:14.768221Z",
     "shell.execute_reply": "2023-05-17T07:07:14.766955Z"
    },
    "papermill": {
     "duration": 0.289879,
     "end_time": "2023-05-17T07:07:14.771038",
     "exception": false,
     "start_time": "2023-05-17T07:07:14.481159",
     "status": "completed"
    },
    "tags": []
   },
   "outputs": [],
   "source": [
    "from sklearn.preprocessing import RobustScaler\n",
    "sc = RobustScaler()\n",
    "data['Time'] = sc.fit_transform(data['Time'].values.reshape(-1,1))\n",
    "data['Amount'] = sc.fit_transform(data['Amount'].values.reshape(-1,1))"
   ]
  },
  {
   "cell_type": "markdown",
   "id": "07d57fb6",
   "metadata": {
    "papermill": {
     "duration": 0.014065,
     "end_time": "2023-05-17T07:07:15.332187",
     "exception": false,
     "start_time": "2023-05-17T07:07:15.318122",
     "status": "completed"
    },
    "tags": []
   },
   "source": [
    "## Spliting the dataset into training and testing"
   ]
  },
  {
   "cell_type": "code",
   "execution_count": 9,
   "id": "5a35796b",
   "metadata": {
    "ExecuteTime": {
     "end_time": "2023-05-24T13:21:25.465316Z",
     "start_time": "2023-05-24T13:21:25.290049Z"
    },
    "execution": {
     "iopub.execute_input": "2023-05-17T07:07:15.393013Z",
     "iopub.status.busy": "2023-05-17T07:07:15.391654Z",
     "iopub.status.idle": "2023-05-17T07:07:15.785577Z",
     "shell.execute_reply": "2023-05-17T07:07:15.783703Z"
    },
    "papermill": {
     "duration": 0.413402,
     "end_time": "2023-05-17T07:07:15.788323",
     "exception": false,
     "start_time": "2023-05-17T07:07:15.374921",
     "status": "completed"
    },
    "tags": []
   },
   "outputs": [],
   "source": [
    "from sklearn.model_selection import train_test_split\n",
    "(train, test) = train_test_split(data, test_size=0.2, stratify = data['Class'])"
   ]
  },
  {
   "cell_type": "code",
   "execution_count": 14,
   "id": "7f57ce13",
   "metadata": {
    "ExecuteTime": {
     "end_time": "2023-05-24T13:21:28.692652Z",
     "start_time": "2023-05-24T13:21:28.671849Z"
    },
    "execution": {
     "iopub.execute_input": "2023-05-17T07:07:16.577112Z",
     "iopub.status.busy": "2023-05-17T07:07:16.576680Z",
     "iopub.status.idle": "2023-05-17T07:07:16.603058Z",
     "shell.execute_reply": "2023-05-17T07:07:16.601711Z"
    },
    "papermill": {
     "duration": 0.047554,
     "end_time": "2023-05-17T07:07:16.606073",
     "exception": false,
     "start_time": "2023-05-17T07:07:16.558519",
     "status": "completed"
    },
    "tags": []
   },
   "outputs": [],
   "source": [
    "train_X = train.iloc[:,:-1].values\n",
    "train_y = train.iloc[:, -1].values"
   ]
  },
  {
   "cell_type": "code",
   "execution_count": 15,
   "id": "6c9a82f8",
   "metadata": {
    "ExecuteTime": {
     "end_time": "2023-05-24T13:21:29.487847Z",
     "start_time": "2023-05-24T13:21:29.479959Z"
    },
    "execution": {
     "iopub.execute_input": "2023-05-17T07:07:16.642240Z",
     "iopub.status.busy": "2023-05-17T07:07:16.641857Z",
     "iopub.status.idle": "2023-05-17T07:07:16.651151Z",
     "shell.execute_reply": "2023-05-17T07:07:16.649767Z"
    },
    "papermill": {
     "duration": 0.030196,
     "end_time": "2023-05-17T07:07:16.653805",
     "exception": false,
     "start_time": "2023-05-17T07:07:16.623609",
     "status": "completed"
    },
    "tags": []
   },
   "outputs": [],
   "source": [
    "X_test = test.iloc[:,:-1].values\n",
    "y_test = test.iloc[:,-1].values"
   ]
  },
  {
   "cell_type": "markdown",
   "id": "adb3485e",
   "metadata": {
    "papermill": {
     "duration": 0.016301,
     "end_time": "2023-05-17T07:07:16.687532",
     "exception": false,
     "start_time": "2023-05-17T07:07:16.671231",
     "status": "completed"
    },
    "tags": []
   },
   "source": [
    "## Training the model using LogisticRegression[Before SMOTE]"
   ]
  },
  {
   "cell_type": "code",
   "execution_count": 16,
   "id": "be2b2bbc",
   "metadata": {
    "ExecuteTime": {
     "end_time": "2023-05-24T13:21:32.264978Z",
     "start_time": "2023-05-24T13:21:30.898268Z"
    },
    "execution": {
     "iopub.execute_input": "2023-05-17T07:07:16.724081Z",
     "iopub.status.busy": "2023-05-17T07:07:16.723698Z",
     "iopub.status.idle": "2023-05-17T07:07:20.600119Z",
     "shell.execute_reply": "2023-05-17T07:07:20.598585Z"
    },
    "papermill": {
     "duration": 3.90098,
     "end_time": "2023-05-17T07:07:20.605162",
     "exception": false,
     "start_time": "2023-05-17T07:07:16.704182",
     "status": "completed"
    },
    "scrolled": true,
    "tags": []
   },
   "outputs": [
    {
     "data": {
      "text/plain": [
       "LogisticRegression()"
      ]
     },
     "execution_count": 16,
     "metadata": {},
     "output_type": "execute_result"
    }
   ],
   "source": [
    "from sklearn.linear_model import LogisticRegression\n",
    "before_lr = LogisticRegression()\n",
    "before_lr.fit(train_X, train_y)"
   ]
  },
  {
   "cell_type": "code",
   "execution_count": 17,
   "id": "208b1482",
   "metadata": {
    "ExecuteTime": {
     "end_time": "2023-05-24T13:21:32.310280Z",
     "start_time": "2023-05-24T13:21:32.301178Z"
    },
    "execution": {
     "iopub.execute_input": "2023-05-17T07:07:20.680033Z",
     "iopub.status.busy": "2023-05-17T07:07:20.679305Z",
     "iopub.status.idle": "2023-05-17T07:07:20.695644Z",
     "shell.execute_reply": "2023-05-17T07:07:20.694061Z"
    },
    "papermill": {
     "duration": 0.059027,
     "end_time": "2023-05-17T07:07:20.700060",
     "exception": false,
     "start_time": "2023-05-17T07:07:20.641033",
     "status": "completed"
    },
    "tags": []
   },
   "outputs": [],
   "source": [
    "before_y_pred_lr = before_lr.predict(X_test)"
   ]
  },
  {
   "cell_type": "markdown",
   "id": "a635f42b",
   "metadata": {
    "papermill": {
     "duration": 0.035136,
     "end_time": "2023-05-17T07:07:20.770871",
     "exception": false,
     "start_time": "2023-05-17T07:07:20.735735",
     "status": "completed"
    },
    "tags": []
   },
   "source": [
    "## Training the model using KNN[Before SMOTE]"
   ]
  },
  {
   "cell_type": "code",
   "execution_count": 18,
   "id": "4830253d",
   "metadata": {
    "ExecuteTime": {
     "end_time": "2023-05-24T13:21:38.794036Z",
     "start_time": "2023-05-24T13:21:38.746394Z"
    },
    "execution": {
     "iopub.execute_input": "2023-05-17T07:07:20.827009Z",
     "iopub.status.busy": "2023-05-17T07:07:20.826551Z",
     "iopub.status.idle": "2023-05-17T07:07:21.017784Z",
     "shell.execute_reply": "2023-05-17T07:07:21.016548Z"
    },
    "papermill": {
     "duration": 0.213558,
     "end_time": "2023-05-17T07:07:21.020812",
     "exception": false,
     "start_time": "2023-05-17T07:07:20.807254",
     "status": "completed"
    },
    "tags": []
   },
   "outputs": [
    {
     "data": {
      "text/plain": [
       "KNeighborsClassifier()"
      ]
     },
     "execution_count": 18,
     "metadata": {},
     "output_type": "execute_result"
    }
   ],
   "source": [
    "from sklearn.neighbors import KNeighborsClassifier\n",
    "before_knn = KNeighborsClassifier(n_neighbors = 5)\n",
    "before_knn.fit(train_X, train_y)"
   ]
  },
  {
   "cell_type": "code",
   "execution_count": 35,
   "id": "490f80b9",
   "metadata": {
    "ExecuteTime": {
     "end_time": "2023-05-25T06:11:02.335096Z",
     "start_time": "2023-05-25T06:08:26.185671Z"
    },
    "execution": {
     "iopub.execute_input": "2023-05-17T07:07:21.058935Z",
     "iopub.status.busy": "2023-05-17T07:07:21.058528Z",
     "iopub.status.idle": "2023-05-17T07:07:58.723731Z",
     "shell.execute_reply": "2023-05-17T07:07:58.722667Z"
    },
    "papermill": {
     "duration": 37.687118,
     "end_time": "2023-05-17T07:07:58.726653",
     "exception": false,
     "start_time": "2023-05-17T07:07:21.039535",
     "status": "completed"
    },
    "tags": []
   },
   "outputs": [],
   "source": [
    "before_y_pred_knn = before_knn.predict(X_test)"
   ]
  },
  {
   "cell_type": "code",
   "execution_count": 19,
   "id": "999dfcdc",
   "metadata": {
    "ExecuteTime": {
     "end_time": "2023-05-24T13:25:39.967056Z",
     "start_time": "2023-05-24T13:23:01.734456Z"
    }
   },
   "outputs": [
    {
     "data": {
      "text/plain": [
       "SVC()"
      ]
     },
     "execution_count": 19,
     "metadata": {},
     "output_type": "execute_result"
    }
   ],
   "source": [
    "from sklearn.svm import SVC\n",
    "before_svc = SVC()\n",
    "before_svc.fit(train_X, train_y)"
   ]
  },
  {
   "cell_type": "code",
   "execution_count": 59,
   "id": "cc61c1c6",
   "metadata": {
    "ExecuteTime": {
     "end_time": "2023-05-25T06:48:24.778153Z",
     "start_time": "2023-05-25T06:48:15.035535Z"
    }
   },
   "outputs": [],
   "source": [
    "before_y_pred_svc = before_svc.predict(X_test)"
   ]
  },
  {
   "cell_type": "markdown",
   "id": "863e1d4f",
   "metadata": {
    "papermill": {
     "duration": 0.016986,
     "end_time": "2023-05-17T07:07:58.760881",
     "exception": false,
     "start_time": "2023-05-17T07:07:58.743895",
     "status": "completed"
    },
    "tags": []
   },
   "source": [
    "## Apply SMOTE"
   ]
  },
  {
   "cell_type": "code",
   "execution_count": 21,
   "id": "a54d6bc6",
   "metadata": {
    "ExecuteTime": {
     "end_time": "2023-05-25T05:15:00.308218Z",
     "start_time": "2023-05-25T05:14:59.876574Z"
    },
    "execution": {
     "iopub.execute_input": "2023-05-17T07:07:58.797218Z",
     "iopub.status.busy": "2023-05-17T07:07:58.796469Z",
     "iopub.status.idle": "2023-05-17T07:07:59.468154Z",
     "shell.execute_reply": "2023-05-17T07:07:59.466823Z"
    },
    "papermill": {
     "duration": 0.693575,
     "end_time": "2023-05-17T07:07:59.471398",
     "exception": false,
     "start_time": "2023-05-17T07:07:58.777823",
     "status": "completed"
    },
    "tags": []
   },
   "outputs": [],
   "source": [
    "from imblearn.over_sampling import SMOTE\n",
    "X_resampled, y_resampled = SMOTE(n_jobs=-1).fit_resample(train_X, train_y)"
   ]
  },
  {
   "cell_type": "code",
   "execution_count": 23,
   "id": "0e58ea6b",
   "metadata": {
    "ExecuteTime": {
     "end_time": "2023-05-25T05:32:18.346567Z",
     "start_time": "2023-05-25T05:32:18.327896Z"
    },
    "execution": {
     "iopub.execute_input": "2023-05-17T07:07:59.509043Z",
     "iopub.status.busy": "2023-05-17T07:07:59.508614Z",
     "iopub.status.idle": "2023-05-17T07:07:59.516944Z",
     "shell.execute_reply": "2023-05-17T07:07:59.515779Z"
    },
    "papermill": {
     "duration": 0.029898,
     "end_time": "2023-05-17T07:07:59.519802",
     "exception": false,
     "start_time": "2023-05-17T07:07:59.489904",
     "status": "completed"
    },
    "tags": []
   },
   "outputs": [
    {
     "data": {
      "text/plain": [
       "array([[-0.50127948, -0.25627746,  0.79302066, ..., -0.15651777,\n",
       "        -0.21030757,  0.38937561],\n",
       "       [ 0.84115368,  1.71251278, -0.7772944 , ...,  0.05550902,\n",
       "        -0.04706755,  0.87539981],\n",
       "       [-0.3494578 , -8.93489381, -6.32708255, ...,  1.36080652,\n",
       "        -2.24392969,  8.74843554],\n",
       "       ...,\n",
       "       [-0.20056647, -3.51609295,  2.34819414, ..., -0.730178  ,\n",
       "        -0.33431814,  0.30519399],\n",
       "       [-0.26012436, -1.9486045 , -2.32173128, ..., -0.09120333,\n",
       "        -0.45385228,  7.88215295],\n",
       "       [-0.65001428,  0.16879651,  0.98403995, ...,  0.55439646,\n",
       "         0.293999  ,  0.09516175]])"
      ]
     },
     "execution_count": 23,
     "metadata": {},
     "output_type": "execute_result"
    }
   ],
   "source": [
    "X_resampled"
   ]
  },
  {
   "cell_type": "code",
   "execution_count": 24,
   "id": "df6da6b5",
   "metadata": {
    "ExecuteTime": {
     "end_time": "2023-05-25T05:32:20.213846Z",
     "start_time": "2023-05-25T05:32:20.103834Z"
    },
    "execution": {
     "iopub.execute_input": "2023-05-17T07:07:59.557910Z",
     "iopub.status.busy": "2023-05-17T07:07:59.557509Z",
     "iopub.status.idle": "2023-05-17T07:07:59.742333Z",
     "shell.execute_reply": "2023-05-17T07:07:59.741003Z"
    },
    "papermill": {
     "duration": 0.206912,
     "end_time": "2023-05-17T07:07:59.744979",
     "exception": false,
     "start_time": "2023-05-17T07:07:59.538067",
     "status": "completed"
    },
    "tags": []
   },
   "outputs": [
    {
     "data": {
      "image/png": "[encoded data removed]",
      "text/plain": [
       "<Figure size 640x480 with 1 Axes>"
      ]
     },
     "metadata": {},
     "output_type": "display_data"
    }
   ],
   "source": [
    "categories = [0,1]\n",
    "values = [len(y_resampled[y_resampled == 0]), len(y_resampled[y_resampled == 1])]\n",
    "plt.bar(categories, values)\n",
    "plt.title('Class_Distribution after applying SMOTE')\n",
    "plt.show()"
   ]
  },
  {
   "cell_type": "markdown",
   "id": "79b74c26",
   "metadata": {
    "papermill": {
     "duration": 0.0172,
     "end_time": "2023-05-17T07:07:59.780850",
     "exception": false,
     "start_time": "2023-05-17T07:07:59.763650",
     "status": "completed"
    },
    "tags": []
   },
   "source": [
    "## Training the model using LogisticRegression"
   ]
  },
  {
   "cell_type": "code",
   "execution_count": 25,
   "id": "fa86ae1c",
   "metadata": {
    "ExecuteTime": {
     "end_time": "2023-05-25T05:32:25.140183Z",
     "start_time": "2023-05-25T05:32:22.879226Z"
    },
    "execution": {
     "iopub.execute_input": "2023-05-17T07:07:59.817970Z",
     "iopub.status.busy": "2023-05-17T07:07:59.817563Z",
     "iopub.status.idle": "2023-05-17T07:08:06.862743Z",
     "shell.execute_reply": "2023-05-17T07:08:06.861076Z"
    },
    "papermill": {
     "duration": 7.070363,
     "end_time": "2023-05-17T07:08:06.868972",
     "exception": false,
     "start_time": "2023-05-17T07:07:59.798609",
     "status": "completed"
    },
    "tags": []
   },
   "outputs": [
    {
     "data": {
      "text/plain": [
       "LogisticRegression()"
      ]
     },
     "execution_count": 25,
     "metadata": {},
     "output_type": "execute_result"
    }
   ],
   "source": [
    "from sklearn.linear_model import LogisticRegression\n",
    "lr = LogisticRegression()\n",
    "lr.fit(X_resampled, y_resampled)"
   ]
  },
  {
   "cell_type": "code",
   "execution_count": 26,
   "id": "c75d5c2b",
   "metadata": {
    "ExecuteTime": {
     "end_time": "2023-05-25T05:32:26.077552Z",
     "start_time": "2023-05-25T05:32:26.023007Z"
    },
    "execution": {
     "iopub.execute_input": "2023-05-17T07:08:06.948942Z",
     "iopub.status.busy": "2023-05-17T07:08:06.948209Z",
     "iopub.status.idle": "2023-05-17T07:08:06.967936Z",
     "shell.execute_reply": "2023-05-17T07:08:06.966393Z"
    },
    "papermill": {
     "duration": 0.06475,
     "end_time": "2023-05-17T07:08:06.972263",
     "exception": false,
     "start_time": "2023-05-17T07:08:06.907513",
     "status": "completed"
    },
    "tags": []
   },
   "outputs": [],
   "source": [
    "y_pred_lr = lr.predict(test.iloc[:,:-1].values)"
   ]
  },
  {
   "cell_type": "markdown",
   "id": "aef9b52c",
   "metadata": {
    "papermill": {
     "duration": 0.038162,
     "end_time": "2023-05-17T07:08:07.049145",
     "exception": false,
     "start_time": "2023-05-17T07:08:07.010983",
     "status": "completed"
    },
    "tags": []
   },
   "source": [
    "## Training the model using KNN"
   ]
  },
  {
   "cell_type": "code",
   "execution_count": 27,
   "id": "f7d2fb1e",
   "metadata": {
    "ExecuteTime": {
     "end_time": "2023-05-25T05:33:56.497608Z",
     "start_time": "2023-05-25T05:33:56.459370Z"
    },
    "execution": {
     "iopub.execute_input": "2023-05-17T07:08:07.107085Z",
     "iopub.status.busy": "2023-05-17T07:08:07.106647Z",
     "iopub.status.idle": "2023-05-17T07:08:07.154975Z",
     "shell.execute_reply": "2023-05-17T07:08:07.153678Z"
    },
    "papermill": {
     "duration": 0.072404,
     "end_time": "2023-05-17T07:08:07.159517",
     "exception": false,
     "start_time": "2023-05-17T07:08:07.087113",
     "status": "completed"
    },
    "tags": []
   },
   "outputs": [
    {
     "data": {
      "text/plain": [
       "KNeighborsClassifier()"
      ]
     },
     "execution_count": 27,
     "metadata": {},
     "output_type": "execute_result"
    }
   ],
   "source": [
    "from sklearn.neighbors import KNeighborsClassifier\n",
    "knn = KNeighborsClassifier(n_neighbors = 5)\n",
    "knn.fit(X_resampled, y_resampled)"
   ]
  },
  {
   "cell_type": "code",
   "execution_count": 28,
   "id": "ba667be1",
   "metadata": {
    "ExecuteTime": {
     "end_time": "2023-05-25T05:39:42.196049Z",
     "start_time": "2023-05-25T05:33:56.895689Z"
    },
    "execution": {
     "iopub.execute_input": "2023-05-17T07:08:07.207439Z",
     "iopub.status.busy": "2023-05-17T07:08:07.206417Z",
     "iopub.status.idle": "2023-05-17T07:09:21.268813Z",
     "shell.execute_reply": "2023-05-17T07:09:21.267354Z"
    },
    "papermill": {
     "duration": 74.090035,
     "end_time": "2023-05-17T07:09:21.272136",
     "exception": false,
     "start_time": "2023-05-17T07:08:07.182101",
     "status": "completed"
    },
    "tags": []
   },
   "outputs": [],
   "source": [
    "y_pred_knn = knn.predict(X_test)"
   ]
  },
  {
   "cell_type": "markdown",
   "id": "b97f5547",
   "metadata": {},
   "source": [
    "## Training the model using SVC"
   ]
  },
  {
   "cell_type": "code",
   "execution_count": 33,
   "id": "642ee007",
   "metadata": {
    "ExecuteTime": {
     "end_time": "2023-05-25T06:06:40.048084Z",
     "start_time": "2023-05-25T05:43:40.130694Z"
    }
   },
   "outputs": [
    {
     "data": {
      "text/plain": [
       "SVC()"
      ]
     },
     "execution_count": 33,
     "metadata": {},
     "output_type": "execute_result"
    }
   ],
   "source": [
    "svc = SVC()\n",
    "svc.fit(X_resampled, y_resampled)"
   ]
  },
  {
   "cell_type": "code",
   "execution_count": 62,
   "id": "6fd8b8af",
   "metadata": {
    "ExecuteTime": {
     "end_time": "2023-05-25T06:51:39.558698Z",
     "start_time": "2023-05-25T06:49:19.112937Z"
    }
   },
   "outputs": [],
   "source": [
    "y_pred_svc = svc.predict(X_test)"
   ]
  },
  {
   "cell_type": "markdown",
   "id": "fe0d1203",
   "metadata": {
    "papermill": {
     "duration": 0.017986,
     "end_time": "2023-05-17T07:09:21.310135",
     "exception": false,
     "start_time": "2023-05-17T07:09:21.292149",
     "status": "completed"
    },
    "tags": []
   },
   "source": [
    "## Compare TP,FP,TN,FN before SMOTE and after SMOTE"
   ]
  },
  {
   "cell_type": "code",
   "execution_count": 64,
   "id": "41515822",
   "metadata": {
    "ExecuteTime": {
     "end_time": "2023-05-25T06:54:51.018433Z",
     "start_time": "2023-05-25T06:54:50.904170Z"
    },
    "execution": {
     "iopub.execute_input": "2023-05-17T07:09:21.348670Z",
     "iopub.status.busy": "2023-05-17T07:09:21.348011Z",
     "iopub.status.idle": "2023-05-17T07:09:21.401597Z",
     "shell.execute_reply": "2023-05-17T07:09:21.400148Z"
    },
    "papermill": {
     "duration": 0.07586,
     "end_time": "2023-05-17T07:09:21.404335",
     "exception": false,
     "start_time": "2023-05-17T07:09:21.328475",
     "status": "completed"
    },
    "tags": []
   },
   "outputs": [
    {
     "name": "stdout",
     "output_type": "stream",
     "text": [
      "********* Before SMOTE, for LogisticRegression ***********\n",
      "True Negatives: 56643\n",
      "False Positives: 8\n",
      "False Negatives: 43\n",
      "True Positives: 52\n",
      "Accuracy_Score: 99.91012582384661\n",
      "recall_score: 0.5473684210526316\n",
      "********* Before SMOTE, for KNN ***********\n",
      "True Negatives: 56648\n",
      "False Positives: 3\n",
      "False Negatives: 19\n",
      "True Positives: 76\n",
      "Accuracy_Score: 99.96123074754168\n",
      "recall_score: 0.8\n",
      "********* Before SMOTE, for SVC ***********\n",
      "True Negatives: 56651\n",
      "False Positives: 0\n",
      "False Negatives: 27\n",
      "True Positives: 68\n",
      "Accuracy_Score: 99.95241955380115\n",
      "recall_score: 0.7157894736842105\n",
      "********* After SMOTE, for LogisticRegression ***********\n",
      "True Negatives: 55236\n",
      "False Positives: 1415\n",
      "False Negatives: 12\n",
      "True Positives: 83\n",
      "Accuracy_Score: 97.48528530645332\n",
      "recall_score: 0.8736842105263158\n",
      "********* After SMOTE, for KNN ***********\n",
      "True Negatives: 56548\n",
      "False Positives: 103\n",
      "False Negatives: 12\n",
      "True Positives: 83\n",
      "Accuracy_Score: 99.79734254396786\n",
      "recall_score: 0.8736842105263158\n",
      "********* After SMOTE, for SVC ***********\n",
      "True Negatives: 55626\n",
      "False Positives: 1025\n",
      "False Negatives: 15\n",
      "True Positives: 80\n",
      "Accuracy_Score: 98.16727170197018\n",
      "recall_score: 0.8421052631578947\n"
     ]
    }
   ],
   "source": [
    "## confusion matrics\n",
    "from sklearn.metrics import confusion_matrix, accuracy_score, f1_score, auc, precision_score, recall_score\n",
    "tn, fp, fn, tp = confusion_matrix(y_test, before_y_pred_lr).ravel()\n",
    "print('********* Before SMOTE, for LogisticRegression ***********')\n",
    "print('True Negatives: {}\\nFalse Positives: {}\\nFalse Negatives: {}\\nTrue Positives: {}\\nAccuracy_Score: {}\\nrecall_score: {}'.format(tn, fp, fn, tp, 100* accuracy_score(y_test, before_y_pred_lr), recall_score(y_test, before_y_pred_lr)))\n",
    "\n",
    "tn, fp, fn, tp = confusion_matrix(y_test, before_y_pred_knn).ravel()\n",
    "print('********* Before SMOTE, for KNN ***********')\n",
    "print('True Negatives: {}\\nFalse Positives: {}\\nFalse Negatives: {}\\nTrue Positives: {}\\nAccuracy_Score: {}\\nrecall_score: {}'.format(tn, fp, fn, tp, 100* accuracy_score(y_test, before_y_pred_knn), recall_score(y_test, before_y_pred_knn)))\n",
    "\n",
    "tn, fp, fn, tp = confusion_matrix(y_test, before_y_pred_svc).ravel()\n",
    "print('********* Before SMOTE, for SVC ***********')\n",
    "print('True Negatives: {}\\nFalse Positives: {}\\nFalse Negatives: {}\\nTrue Positives: {}\\nAccuracy_Score: {}\\nrecall_score: {}'.format(tn, fp, fn, tp, 100* accuracy_score(y_test, before_y_pred_svc), recall_score(y_test, before_y_pred_svc)))\n",
    "\n",
    "tn, fp, fn, tp = confusion_matrix(y_test, y_pred_lr).ravel()\n",
    "print('********* After SMOTE, for LogisticRegression ***********')\n",
    "print('True Negatives: {}\\nFalse Positives: {}\\nFalse Negatives: {}\\nTrue Positives: {}\\nAccuracy_Score: {}\\nrecall_score: {}'.format(tn, fp, fn, tp, 100* accuracy_score(y_test, y_pred_lr), recall_score(y_test, y_pred_lr)))                                  \n",
    "\n",
    "tn, fp, fn, tp = confusion_matrix(y_test, y_pred_knn).ravel()\n",
    "print('********* After SMOTE, for KNN ***********')\n",
    "print('True Negatives: {}\\nFalse Positives: {}\\nFalse Negatives: {}\\nTrue Positives: {}\\nAccuracy_Score: {}\\nrecall_score: {}'.format(tn, fp, fn, tp, 100* accuracy_score(y_test, y_pred_knn), recall_score(y_test, y_pred_knn)))\n",
    "\n",
    "tn, fp, fn, tp = confusion_matrix(y_test, y_pred_svc).ravel()\n",
    "print('********* After SMOTE, for SVC ***********')\n",
    "print('True Negatives: {}\\nFalse Positives: {}\\nFalse Negatives: {}\\nTrue Positives: {}\\nAccuracy_Score: {}\\nrecall_score: {}'.format(tn, fp, fn, tp, 100* accuracy_score(y_test, y_pred_svc), recall_score(y_test, y_pred_svc)))"
   ]
  },
  {
   "cell_type": "code",
   "execution_count": 38,
   "id": "83a286e3",
   "metadata": {
    "ExecuteTime": {
     "end_time": "2023-05-25T06:13:09.171193Z",
     "start_time": "2023-05-25T06:13:09.051470Z"
    }
   },
   "outputs": [
    {
     "name": "stdout",
     "output_type": "stream",
     "text": [
      "Model: \"sequential\"\n",
      "_________________________________________________________________\n",
      " Layer (type)                Output Shape              Param #   \n",
      "=================================================================\n",
      " dense (Dense)               (None, 256)               7936      \n",
      "                                                                 \n",
      " batch_normalization (BatchN  (None, 256)              1024      \n",
      " ormalization)                                                   \n",
      "                                                                 \n",
      " dropout (Dropout)           (None, 256)               0         \n",
      "                                                                 \n",
      " dense_1 (Dense)             (None, 256)               65792     \n",
      "                                                                 \n",
      " batch_normalization_1 (Batc  (None, 256)              1024      \n",
      " hNormalization)                                                 \n",
      "                                                                 \n",
      " dropout_1 (Dropout)         (None, 256)               0         \n",
      "                                                                 \n",
      " dense_2 (Dense)             (None, 256)               65792     \n",
      "                                                                 \n",
      " batch_normalization_2 (Batc  (None, 256)              1024      \n",
      " hNormalization)                                                 \n",
      "                                                                 \n",
      " dropout_2 (Dropout)         (None, 256)               0         \n",
      "                                                                 \n",
      " dense_3 (Dense)             (None, 1)                 257       \n",
      "                                                                 \n",
      "=================================================================\n",
      "Total params: 142,849\n",
      "Trainable params: 141,313\n",
      "Non-trainable params: 1,536\n",
      "_________________________________________________________________\n"
     ]
    }
   ],
   "source": [
    "from tensorflow import keras\n",
    "\n",
    "model = keras.Sequential([\n",
    "    keras.layers.Dense(256, activation='relu', input_shape=(30,)),\n",
    "    keras.layers.BatchNormalization(),\n",
    "    keras.layers.Dropout(0.3),\n",
    "    keras.layers.Dense(256, activation='relu'),\n",
    "    keras.layers.BatchNormalization(),\n",
    "    keras.layers.Dropout(0.3),\n",
    "    keras.layers.Dense(256, activation='relu'),\n",
    "    keras.layers.BatchNormalization(),\n",
    "    keras.layers.Dropout(0.3),\n",
    "    keras.layers.Dense(1, activation='sigmoid'),\n",
    "])\n",
    "\n",
    "model.summary()"
   ]
  },
  {
   "cell_type": "code",
   "execution_count": 42,
   "id": "c204ef8c",
   "metadata": {
    "ExecuteTime": {
     "end_time": "2023-05-25T06:20:56.084463Z",
     "start_time": "2023-05-25T06:15:43.242761Z"
    },
    "papermill": {
     "duration": 0.018688,
     "end_time": "2023-05-17T07:09:21.583777",
     "exception": false,
     "start_time": "2023-05-17T07:09:21.565089",
     "status": "completed"
    },
    "tags": []
   },
   "outputs": [
    {
     "name": "stdout",
     "output_type": "stream",
     "text": [
      "Epoch 1/50\n",
      "222/222 [==============================] - 7s 25ms/step - loss: 0.0263 - fn: 1525.0000 - fp: 2529.0000 - tn: 224073.0000 - tp: 225077.0000 - precision: 0.9889 - recall: 0.9933 - val_loss: 0.0396 - val_fn: 11.0000 - val_fp: 744.0000 - val_tn: 55907.0000 - val_tp: 84.0000 - val_precision: 0.1014 - val_recall: 0.8842\n",
      "Epoch 2/50\n",
      "222/222 [==============================] - 6s 25ms/step - loss: 0.0207 - fn: 1062.0000 - fp: 2024.0000 - tn: 224578.0000 - tp: 225540.0000 - precision: 0.9911 - recall: 0.9953 - val_loss: 0.0273 - val_fn: 12.0000 - val_fp: 477.0000 - val_tn: 56174.0000 - val_tp: 83.0000 - val_precision: 0.1482 - val_recall: 0.8737\n",
      "Epoch 3/50\n",
      "222/222 [==============================] - 6s 25ms/step - loss: 0.0169 - fn: 773.0000 - fp: 1588.0000 - tn: 225014.0000 - tp: 225829.0000 - precision: 0.9930 - recall: 0.9966 - val_loss: 0.0273 - val_fn: 12.0000 - val_fp: 468.0000 - val_tn: 56183.0000 - val_tp: 83.0000 - val_precision: 0.1506 - val_recall: 0.8737\n",
      "Epoch 4/50\n",
      "222/222 [==============================] - 6s 26ms/step - loss: 0.0146 - fn: 605.0000 - fp: 1369.0000 - tn: 225233.0000 - tp: 225997.0000 - precision: 0.9940 - recall: 0.9973 - val_loss: 0.0216 - val_fn: 12.0000 - val_fp: 350.0000 - val_tn: 56301.0000 - val_tp: 83.0000 - val_precision: 0.1917 - val_recall: 0.8737\n",
      "Epoch 5/50\n",
      "222/222 [==============================] - 6s 26ms/step - loss: 0.0123 - fn: 474.0000 - fp: 1189.0000 - tn: 225413.0000 - tp: 226128.0000 - precision: 0.9948 - recall: 0.9979 - val_loss: 0.0212 - val_fn: 12.0000 - val_fp: 339.0000 - val_tn: 56312.0000 - val_tp: 83.0000 - val_precision: 0.1967 - val_recall: 0.8737\n",
      "Epoch 6/50\n",
      "222/222 [==============================] - 6s 26ms/step - loss: 0.0113 - fn: 426.0000 - fp: 1061.0000 - tn: 225541.0000 - tp: 226176.0000 - precision: 0.9953 - recall: 0.9981 - val_loss: 0.0186 - val_fn: 12.0000 - val_fp: 281.0000 - val_tn: 56370.0000 - val_tp: 83.0000 - val_precision: 0.2280 - val_recall: 0.8737\n",
      "Epoch 7/50\n",
      "222/222 [==============================] - 6s 27ms/step - loss: 0.0099 - fn: 351.0000 - fp: 909.0000 - tn: 225693.0000 - tp: 226251.0000 - precision: 0.9960 - recall: 0.9985 - val_loss: 0.0177 - val_fn: 12.0000 - val_fp: 251.0000 - val_tn: 56400.0000 - val_tp: 83.0000 - val_precision: 0.2485 - val_recall: 0.8737\n",
      "Epoch 8/50\n",
      "222/222 [==============================] - 6s 27ms/step - loss: 0.0090 - fn: 333.0000 - fp: 852.0000 - tn: 225750.0000 - tp: 226269.0000 - precision: 0.9962 - recall: 0.9985 - val_loss: 0.0177 - val_fn: 12.0000 - val_fp: 255.0000 - val_tn: 56396.0000 - val_tp: 83.0000 - val_precision: 0.2456 - val_recall: 0.8737\n",
      "Epoch 9/50\n",
      "222/222 [==============================] - 6s 27ms/step - loss: 0.0082 - fn: 273.0000 - fp: 756.0000 - tn: 225846.0000 - tp: 226329.0000 - precision: 0.9967 - recall: 0.9988 - val_loss: 0.0161 - val_fn: 12.0000 - val_fp: 219.0000 - val_tn: 56432.0000 - val_tp: 83.0000 - val_precision: 0.2748 - val_recall: 0.8737\n",
      "Epoch 10/50\n",
      "222/222 [==============================] - 6s 28ms/step - loss: 0.0074 - fn: 249.0000 - fp: 687.0000 - tn: 225915.0000 - tp: 226353.0000 - precision: 0.9970 - recall: 0.9989 - val_loss: 0.0137 - val_fn: 12.0000 - val_fp: 167.0000 - val_tn: 56484.0000 - val_tp: 83.0000 - val_precision: 0.3320 - val_recall: 0.8737\n",
      "Epoch 11/50\n",
      "222/222 [==============================] - 6s 27ms/step - loss: 0.0069 - fn: 250.0000 - fp: 638.0000 - tn: 225964.0000 - tp: 226352.0000 - precision: 0.9972 - recall: 0.9989 - val_loss: 0.0136 - val_fn: 12.0000 - val_fp: 169.0000 - val_tn: 56482.0000 - val_tp: 83.0000 - val_precision: 0.3294 - val_recall: 0.8737\n",
      "Epoch 12/50\n",
      "222/222 [==============================] - 6s 29ms/step - loss: 0.0064 - fn: 213.0000 - fp: 607.0000 - tn: 225995.0000 - tp: 226389.0000 - precision: 0.9973 - recall: 0.9991 - val_loss: 0.0131 - val_fn: 12.0000 - val_fp: 151.0000 - val_tn: 56500.0000 - val_tp: 83.0000 - val_precision: 0.3547 - val_recall: 0.8737\n",
      "Epoch 13/50\n",
      "222/222 [==============================] - 6s 28ms/step - loss: 0.0059 - fn: 176.0000 - fp: 556.0000 - tn: 226046.0000 - tp: 226426.0000 - precision: 0.9976 - recall: 0.9992 - val_loss: 0.0123 - val_fn: 12.0000 - val_fp: 135.0000 - val_tn: 56516.0000 - val_tp: 83.0000 - val_precision: 0.3807 - val_recall: 0.8737\n",
      "Epoch 14/50\n",
      "222/222 [==============================] - 6s 28ms/step - loss: 0.0057 - fn: 181.0000 - fp: 523.0000 - tn: 226079.0000 - tp: 226421.0000 - precision: 0.9977 - recall: 0.9992 - val_loss: 0.0128 - val_fn: 12.0000 - val_fp: 154.0000 - val_tn: 56497.0000 - val_tp: 83.0000 - val_precision: 0.3502 - val_recall: 0.8737\n",
      "Epoch 15/50\n",
      "222/222 [==============================] - 6s 28ms/step - loss: 0.0052 - fn: 139.0000 - fp: 475.0000 - tn: 226127.0000 - tp: 226463.0000 - precision: 0.9979 - recall: 0.9994 - val_loss: 0.0123 - val_fn: 12.0000 - val_fp: 134.0000 - val_tn: 56517.0000 - val_tp: 83.0000 - val_precision: 0.3825 - val_recall: 0.8737\n",
      "Epoch 16/50\n",
      "222/222 [==============================] - 6s 28ms/step - loss: 0.0049 - fn: 146.0000 - fp: 450.0000 - tn: 226152.0000 - tp: 226456.0000 - precision: 0.9980 - recall: 0.9994 - val_loss: 0.0115 - val_fn: 12.0000 - val_fp: 121.0000 - val_tn: 56530.0000 - val_tp: 83.0000 - val_precision: 0.4069 - val_recall: 0.8737\n",
      "Epoch 17/50\n",
      "222/222 [==============================] - 6s 27ms/step - loss: 0.0049 - fn: 156.0000 - fp: 471.0000 - tn: 226131.0000 - tp: 226446.0000 - precision: 0.9979 - recall: 0.9993 - val_loss: 0.0112 - val_fn: 12.0000 - val_fp: 113.0000 - val_tn: 56538.0000 - val_tp: 83.0000 - val_precision: 0.4235 - val_recall: 0.8737\n",
      "Epoch 18/50\n",
      "222/222 [==============================] - 6s 27ms/step - loss: 0.0043 - fn: 112.0000 - fp: 421.0000 - tn: 226181.0000 - tp: 226490.0000 - precision: 0.9981 - recall: 0.9995 - val_loss: 0.0106 - val_fn: 12.0000 - val_fp: 105.0000 - val_tn: 56546.0000 - val_tp: 83.0000 - val_precision: 0.4415 - val_recall: 0.8737\n",
      "Epoch 19/50\n",
      "222/222 [==============================] - 6s 29ms/step - loss: 0.0044 - fn: 132.0000 - fp: 374.0000 - tn: 226228.0000 - tp: 226470.0000 - precision: 0.9984 - recall: 0.9994 - val_loss: 0.0104 - val_fn: 12.0000 - val_fp: 103.0000 - val_tn: 56548.0000 - val_tp: 83.0000 - val_precision: 0.4462 - val_recall: 0.8737\n",
      "Epoch 20/50\n",
      "222/222 [==============================] - 6s 27ms/step - loss: 0.0042 - fn: 121.0000 - fp: 375.0000 - tn: 226227.0000 - tp: 226481.0000 - precision: 0.9983 - recall: 0.9995 - val_loss: 0.0106 - val_fn: 12.0000 - val_fp: 98.0000 - val_tn: 56553.0000 - val_tp: 83.0000 - val_precision: 0.4586 - val_recall: 0.8737\n",
      "Epoch 21/50\n",
      "222/222 [==============================] - 6s 28ms/step - loss: 0.0037 - fn: 106.0000 - fp: 354.0000 - tn: 226248.0000 - tp: 226496.0000 - precision: 0.9984 - recall: 0.9995 - val_loss: 0.0099 - val_fn: 12.0000 - val_fp: 87.0000 - val_tn: 56564.0000 - val_tp: 83.0000 - val_precision: 0.4882 - val_recall: 0.8737\n",
      "Epoch 22/50\n",
      "222/222 [==============================] - 6s 29ms/step - loss: 0.0036 - fn: 98.0000 - fp: 320.0000 - tn: 226282.0000 - tp: 226504.0000 - precision: 0.9986 - recall: 0.9996 - val_loss: 0.0101 - val_fn: 12.0000 - val_fp: 92.0000 - val_tn: 56559.0000 - val_tp: 83.0000 - val_precision: 0.4743 - val_recall: 0.8737\n",
      "Epoch 23/50\n",
      "222/222 [==============================] - 6s 29ms/step - loss: 0.0034 - fn: 85.0000 - fp: 305.0000 - tn: 226297.0000 - tp: 226517.0000 - precision: 0.9987 - recall: 0.9996 - val_loss: 0.0099 - val_fn: 12.0000 - val_fp: 86.0000 - val_tn: 56565.0000 - val_tp: 83.0000 - val_precision: 0.4911 - val_recall: 0.8737\n",
      "Epoch 24/50\n",
      "222/222 [==============================] - 6s 29ms/step - loss: 0.0034 - fn: 90.0000 - fp: 299.0000 - tn: 226303.0000 - tp: 226512.0000 - precision: 0.9987 - recall: 0.9996 - val_loss: 0.0094 - val_fn: 12.0000 - val_fp: 77.0000 - val_tn: 56574.0000 - val_tp: 83.0000 - val_precision: 0.5188 - val_recall: 0.8737\n",
      "Epoch 25/50\n",
      "222/222 [==============================] - 6s 27ms/step - loss: 0.0031 - fn: 82.0000 - fp: 289.0000 - tn: 226313.0000 - tp: 226520.0000 - precision: 0.9987 - recall: 0.9996 - val_loss: 0.0096 - val_fn: 12.0000 - val_fp: 78.0000 - val_tn: 56573.0000 - val_tp: 83.0000 - val_precision: 0.5155 - val_recall: 0.8737\n",
      "Epoch 26/50\n",
      "222/222 [==============================] - 6s 28ms/step - loss: 0.0029 - fn: 87.0000 - fp: 265.0000 - tn: 226337.0000 - tp: 226515.0000 - precision: 0.9988 - recall: 0.9996 - val_loss: 0.0092 - val_fn: 12.0000 - val_fp: 72.0000 - val_tn: 56579.0000 - val_tp: 83.0000 - val_precision: 0.5355 - val_recall: 0.8737\n",
      "Epoch 27/50\n",
      "222/222 [==============================] - 6s 27ms/step - loss: 0.0029 - fn: 68.0000 - fp: 262.0000 - tn: 226340.0000 - tp: 226534.0000 - precision: 0.9988 - recall: 0.9997 - val_loss: 0.0091 - val_fn: 12.0000 - val_fp: 71.0000 - val_tn: 56580.0000 - val_tp: 83.0000 - val_precision: 0.5390 - val_recall: 0.8737\n",
      "Epoch 28/50\n",
      "222/222 [==============================] - 6s 27ms/step - loss: 0.0027 - fn: 64.0000 - fp: 248.0000 - tn: 226354.0000 - tp: 226538.0000 - precision: 0.9989 - recall: 0.9997 - val_loss: 0.0088 - val_fn: 12.0000 - val_fp: 66.0000 - val_tn: 56585.0000 - val_tp: 83.0000 - val_precision: 0.5570 - val_recall: 0.8737\n",
      "Epoch 29/50\n",
      "222/222 [==============================] - 6s 27ms/step - loss: 0.0027 - fn: 72.0000 - fp: 246.0000 - tn: 226356.0000 - tp: 226530.0000 - precision: 0.9989 - recall: 0.9997 - val_loss: 0.0090 - val_fn: 12.0000 - val_fp: 69.0000 - val_tn: 56582.0000 - val_tp: 83.0000 - val_precision: 0.5461 - val_recall: 0.8737\n",
      "Epoch 30/50\n",
      "222/222 [==============================] - 6s 28ms/step - loss: 0.0026 - fn: 59.0000 - fp: 244.0000 - tn: 226358.0000 - tp: 226543.0000 - precision: 0.9989 - recall: 0.9997 - val_loss: 0.0086 - val_fn: 12.0000 - val_fp: 65.0000 - val_tn: 56586.0000 - val_tp: 83.0000 - val_precision: 0.5608 - val_recall: 0.8737\n",
      "Epoch 31/50\n",
      "222/222 [==============================] - 6s 29ms/step - loss: 0.0027 - fn: 68.0000 - fp: 231.0000 - tn: 226371.0000 - tp: 226534.0000 - precision: 0.9990 - recall: 0.9997 - val_loss: 0.0085 - val_fn: 12.0000 - val_fp: 65.0000 - val_tn: 56586.0000 - val_tp: 83.0000 - val_precision: 0.5608 - val_recall: 0.8737\n",
      "Epoch 32/50\n",
      "222/222 [==============================] - 6s 28ms/step - loss: 0.0026 - fn: 74.0000 - fp: 233.0000 - tn: 226369.0000 - tp: 226528.0000 - precision: 0.9990 - recall: 0.9997 - val_loss: 0.0085 - val_fn: 12.0000 - val_fp: 62.0000 - val_tn: 56589.0000 - val_tp: 83.0000 - val_precision: 0.5724 - val_recall: 0.8737\n",
      "Epoch 33/50\n",
      "222/222 [==============================] - 6s 28ms/step - loss: 0.0023 - fn: 63.0000 - fp: 208.0000 - tn: 226394.0000 - tp: 226539.0000 - precision: 0.9991 - recall: 0.9997 - val_loss: 0.0079 - val_fn: 12.0000 - val_fp: 56.0000 - val_tn: 56595.0000 - val_tp: 83.0000 - val_precision: 0.5971 - val_recall: 0.8737\n",
      "Epoch 34/50\n",
      "222/222 [==============================] - 6s 28ms/step - loss: 0.0023 - fn: 48.0000 - fp: 203.0000 - tn: 226399.0000 - tp: 226554.0000 - precision: 0.9991 - recall: 0.9998 - val_loss: 0.0081 - val_fn: 12.0000 - val_fp: 62.0000 - val_tn: 56589.0000 - val_tp: 83.0000 - val_precision: 0.5724 - val_recall: 0.8737\n",
      "Epoch 35/50\n",
      "222/222 [==============================] - 6s 29ms/step - loss: 0.0021 - fn: 51.0000 - fp: 178.0000 - tn: 226424.0000 - tp: 226551.0000 - precision: 0.9992 - recall: 0.9998 - val_loss: 0.0085 - val_fn: 12.0000 - val_fp: 64.0000 - val_tn: 56587.0000 - val_tp: 83.0000 - val_precision: 0.5646 - val_recall: 0.8737\n",
      "Epoch 36/50\n",
      "222/222 [==============================] - 6s 29ms/step - loss: 0.0020 - fn: 44.0000 - fp: 182.0000 - tn: 226420.0000 - tp: 226558.0000 - precision: 0.9992 - recall: 0.9998 - val_loss: 0.0083 - val_fn: 12.0000 - val_fp: 63.0000 - val_tn: 56588.0000 - val_tp: 83.0000 - val_precision: 0.5685 - val_recall: 0.8737\n",
      "Epoch 37/50\n",
      "222/222 [==============================] - 6s 28ms/step - loss: 0.0021 - fn: 56.0000 - fp: 184.0000 - tn: 226418.0000 - tp: 226546.0000 - precision: 0.9992 - recall: 0.9998 - val_loss: 0.0081 - val_fn: 12.0000 - val_fp: 63.0000 - val_tn: 56588.0000 - val_tp: 83.0000 - val_precision: 0.5685 - val_recall: 0.8737\n",
      "Epoch 38/50\n",
      "222/222 [==============================] - 7s 30ms/step - loss: 0.0019 - fn: 38.0000 - fp: 170.0000 - tn: 226432.0000 - tp: 226564.0000 - precision: 0.9993 - recall: 0.9998 - val_loss: 0.0080 - val_fn: 12.0000 - val_fp: 59.0000 - val_tn: 56592.0000 - val_tp: 83.0000 - val_precision: 0.5845 - val_recall: 0.8737\n",
      "Epoch 39/50\n",
      "222/222 [==============================] - 6s 29ms/step - loss: 0.0018 - fn: 42.0000 - fp: 161.0000 - tn: 226441.0000 - tp: 226560.0000 - precision: 0.9993 - recall: 0.9998 - val_loss: 0.0079 - val_fn: 12.0000 - val_fp: 54.0000 - val_tn: 56597.0000 - val_tp: 83.0000 - val_precision: 0.6058 - val_recall: 0.8737\n",
      "Epoch 40/50\n",
      "222/222 [==============================] - 6s 29ms/step - loss: 0.0019 - fn: 44.0000 - fp: 169.0000 - tn: 226433.0000 - tp: 226558.0000 - precision: 0.9993 - recall: 0.9998 - val_loss: 0.0076 - val_fn: 12.0000 - val_fp: 53.0000 - val_tn: 56598.0000 - val_tp: 83.0000 - val_precision: 0.6103 - val_recall: 0.8737\n",
      "Epoch 41/50\n",
      "222/222 [==============================] - 6s 28ms/step - loss: 0.0018 - fn: 59.0000 - fp: 167.0000 - tn: 226435.0000 - tp: 226543.0000 - precision: 0.9993 - recall: 0.9997 - val_loss: 0.0080 - val_fn: 12.0000 - val_fp: 58.0000 - val_tn: 56593.0000 - val_tp: 83.0000 - val_precision: 0.5887 - val_recall: 0.8737\n",
      "Epoch 42/50\n",
      "222/222 [==============================] - 6s 29ms/step - loss: 0.0019 - fn: 43.0000 - fp: 171.0000 - tn: 226431.0000 - tp: 226559.0000 - precision: 0.9992 - recall: 0.9998 - val_loss: 0.0077 - val_fn: 12.0000 - val_fp: 53.0000 - val_tn: 56598.0000 - val_tp: 83.0000 - val_precision: 0.6103 - val_recall: 0.8737\n",
      "Epoch 43/50\n",
      "222/222 [==============================] - 6s 28ms/step - loss: 0.0017 - fn: 24.0000 - fp: 158.0000 - tn: 226444.0000 - tp: 226578.0000 - precision: 0.9993 - recall: 0.9999 - val_loss: 0.0078 - val_fn: 12.0000 - val_fp: 56.0000 - val_tn: 56595.0000 - val_tp: 83.0000 - val_precision: 0.5971 - val_recall: 0.8737\n",
      "Epoch 44/50\n",
      "222/222 [==============================] - 6s 28ms/step - loss: 0.0015 - fn: 38.0000 - fp: 143.0000 - tn: 226459.0000 - tp: 226564.0000 - precision: 0.9994 - recall: 0.9998 - val_loss: 0.0080 - val_fn: 12.0000 - val_fp: 50.0000 - val_tn: 56601.0000 - val_tp: 83.0000 - val_precision: 0.6241 - val_recall: 0.8737\n",
      "Epoch 45/50\n",
      "222/222 [==============================] - 7s 31ms/step - loss: 0.0015 - fn: 38.0000 - fp: 131.0000 - tn: 226471.0000 - tp: 226564.0000 - precision: 0.9994 - recall: 0.9998 - val_loss: 0.0076 - val_fn: 12.0000 - val_fp: 47.0000 - val_tn: 56604.0000 - val_tp: 83.0000 - val_precision: 0.6385 - val_recall: 0.8737\n",
      "Epoch 46/50\n",
      "222/222 [==============================] - 6s 29ms/step - loss: 0.0015 - fn: 32.0000 - fp: 127.0000 - tn: 226475.0000 - tp: 226570.0000 - precision: 0.9994 - recall: 0.9999 - val_loss: 0.0078 - val_fn: 12.0000 - val_fp: 49.0000 - val_tn: 56602.0000 - val_tp: 83.0000 - val_precision: 0.6288 - val_recall: 0.8737\n",
      "Epoch 47/50\n",
      "222/222 [==============================] - 6s 29ms/step - loss: 0.0014 - fn: 37.0000 - fp: 137.0000 - tn: 226465.0000 - tp: 226565.0000 - precision: 0.9994 - recall: 0.9998 - val_loss: 0.0079 - val_fn: 12.0000 - val_fp: 47.0000 - val_tn: 56604.0000 - val_tp: 83.0000 - val_precision: 0.6385 - val_recall: 0.8737\n",
      "Epoch 48/50\n",
      "222/222 [==============================] - 7s 30ms/step - loss: 0.0015 - fn: 27.0000 - fp: 126.0000 - tn: 226476.0000 - tp: 226575.0000 - precision: 0.9994 - recall: 0.9999 - val_loss: 0.0077 - val_fn: 12.0000 - val_fp: 43.0000 - val_tn: 56608.0000 - val_tp: 83.0000 - val_precision: 0.6587 - val_recall: 0.8737\n",
      "Epoch 49/50\n",
      "222/222 [==============================] - 7s 31ms/step - loss: 0.0016 - fn: 44.0000 - fp: 130.0000 - tn: 226472.0000 - tp: 226558.0000 - precision: 0.9994 - recall: 0.9998 - val_loss: 0.0073 - val_fn: 13.0000 - val_fp: 46.0000 - val_tn: 56605.0000 - val_tp: 82.0000 - val_precision: 0.6406 - val_recall: 0.8632\n",
      "Epoch 50/50\n",
      "222/222 [==============================] - 7s 30ms/step - loss: 0.0014 - fn: 29.0000 - fp: 123.0000 - tn: 226479.0000 - tp: 226573.0000 - precision: 0.9995 - recall: 0.9999 - val_loss: 0.0073 - val_fn: 13.0000 - val_fp: 40.0000 - val_tn: 56611.0000 - val_tp: 82.0000 - val_precision: 0.6721 - val_recall: 0.8632\n"
     ]
    }
   ],
   "source": [
    "METRICS = [\n",
    "#     keras.metrics.Accuracy(name='accuracy'),\n",
    "    keras.metrics.FalseNegatives(name='fn'),\n",
    "    keras.metrics.FalsePositives(name='fp'),\n",
    "    keras.metrics.TrueNegatives(name='tn'),\n",
    "    keras.metrics.TruePositives(name='tp'),\n",
    "    keras.metrics.Precision(name='precision'),\n",
    "    keras.metrics.Recall(name='recall')\n",
    "]\n",
    "\n",
    "model.compile(optimizer=keras.optimizers.Adam(1e-4), loss='binary_crossentropy', metrics=METRICS)\n",
    "\n",
    "r = model.fit(\n",
    "    X_resampled, y_resampled,\n",
    "    validation_data=(X_test, y_test),\n",
    "    batch_size=2048, \n",
    "    epochs=50, \n",
    ")"
   ]
  },
  {
   "cell_type": "code",
   "execution_count": 46,
   "id": "b96a9918",
   "metadata": {
    "ExecuteTime": {
     "end_time": "2023-05-25T06:38:06.400811Z",
     "start_time": "2023-05-25T06:38:05.686990Z"
    }
   },
   "outputs": [
    {
     "name": "stdout",
     "output_type": "stream",
     "text": [
      "Train Result:\n",
      "================================================\n",
      "Accuracy Score: 99.98%\n",
      "_______________________________________________\n",
      "Classification Report:\n",
      "                       0              1  accuracy     macro avg  weighted avg\n",
      "precision       1.000000       0.999581   0.99979       0.99979       0.99979\n",
      "recall          0.999581       1.000000   0.99979       0.99979       0.99979\n",
      "f1-score        0.999790       0.999790   0.99979       0.99979       0.99979\n",
      "support    226602.000000  226602.000000   0.99979  453204.00000  453204.00000\n",
      "_______________________________________________\n",
      "Confusion Matrix: \n",
      " [[226507     95]\n",
      " [     0 226602]]\n",
      "\n",
      "Test Result:\n",
      "================================================\n",
      "Accuracy Score: 99.91%\n",
      "_______________________________________________\n",
      "Classification Report:\n",
      "                      0          1  accuracy     macro avg  weighted avg\n",
      "precision      0.999770   0.672131  0.999066      0.835951      0.999222\n",
      "recall         0.999294   0.863158  0.999066      0.931226      0.999066\n",
      "f1-score       0.999532   0.755760  0.999066      0.877646      0.999124\n",
      "support    56651.000000  95.000000  0.999066  56746.000000  56746.000000\n",
      "_______________________________________________\n",
      "Confusion Matrix: \n",
      " [[56611    40]\n",
      " [   13    82]]\n",
      "\n"
     ]
    }
   ],
   "source": [
    "# from sklearn.metrics import accuracy_score, confusion_matrix, classification_report, f1_score\n",
    "\n",
    "def print_score(label, prediction, train=True):\n",
    "    if train:\n",
    "        clf_report = pd.DataFrame(classification_report(label, prediction, output_dict=True))\n",
    "        print(\"Train Result:\\n================================================\")\n",
    "        print(f\"Accuracy Score: {accuracy_score(label, prediction) * 100:.2f}%\")\n",
    "        print(\"_______________________________________________\")\n",
    "        print(f\"Classification Report:\\n{clf_report}\")\n",
    "        print(\"_______________________________________________\")\n",
    "        print(f\"Confusion Matrix: \\n {confusion_matrix(y_resampled, prediction)}\\n\")\n",
    "        \n",
    "    elif train==False:\n",
    "        clf_report = pd.DataFrame(classification_report(label, prediction, output_dict=True))\n",
    "        print(\"Test Result:\\n================================================\")        \n",
    "        print(f\"Accuracy Score: {accuracy_score(label, prediction) * 100:.2f}%\")\n",
    "        print(\"_______________________________________________\")\n",
    "        print(f\"Classification Report:\\n{clf_report}\")\n",
    "        print(\"_______________________________________________\")\n",
    "        print(f\"Confusion Matrix: \\n {confusion_matrix(label, prediction)}\\n\") \n",
    "\n",
    "\n",
    "# y_train_pred_ann = model.predict(X_resampled)\n",
    "# y_test_pred_ann = model.predict(X_test)\n",
    "\n",
    "print_score(y_resampled, y_train_pred_ann.round(), train=True)\n",
    "print_score(y_test, y_test_pred_ann.round(), train=False)\n",
    "\n",
    "scores_dict = {\n",
    "    'ANNs': {\n",
    "        'Train': f1_score(y_resampled, y_train_pred_ann.round()),\n",
    "        'Test': f1_score(y_test, y_test_pred_ann.round()),\n",
    "    },\n",
    "}"
   ]
  },
  {
   "cell_type": "code",
   "execution_count": null,
   "id": "62b5af0b",
   "metadata": {},
   "outputs": [],
   "source": []
  }
 ],
 "metadata": {
  "kernelspec": {
   "display_name": "Python 3 (ipykernel)",
   "language": "python",
   "name": "python3"
  },
  "language_info": {
   "codemirror_mode": {
    "name": "ipython",
    "version": 3
   },
   "file_extension": ".py",
   "mimetype": "text/x-python",
   "name": "python",
   "nbconvert_exporter": "python",
   "pygments_lexer": "ipython3",
   "version": "3.9.13"
  },
  "papermill": {
   "default_parameters": {},
   "duration": 149.248293,
   "end_time": "2023-05-17T07:09:22.726743",
   "environment_variables": {},
   "exception": null,
   "input_path": "__notebook__.ipynb",
   "output_path": "__notebook__.ipynb",
   "parameters": {},
   "start_time": "2023-05-17T07:06:53.478450",
   "version": "2.4.0"
  },
  "toc": {
   "base_numbering": 1,
   "nav_menu": {},
   "number_sections": true,
   "sideBar": true,
   "skip_h1_title": false,
   "title_cell": "Table of Contents",
   "title_sidebar": "Contents",
   "toc_cell": false,
   "toc_position": {},
   "toc_section_display": true,
   "toc_window_display": false
  },
  "varInspector": {
   "cols": {
    "lenName": 16,
    "lenType": 16,
    "lenVar": 40
   },
   "kernels_config": {
    "python": {
     "delete_cmd_postfix": "",
     "delete_cmd_prefix": "del ",
     "library": "var_list.py",
     "varRefreshCmd": "print(var_dic_list())"
    },
    "r": {
     "delete_cmd_postfix": ") ",
     "delete_cmd_prefix": "rm(",
     "library": "var_list.r",
     "varRefreshCmd": "cat(var_dic_list()) "
    }
   },
   "types_to_exclude": [
    "module",
    "function",
    "builtin_function_or_method",
    "instance",
    "_Feature"
   ],
   "window_display": false
  }
 },
 "nbformat": 4,
 "nbformat_minor": 5
}
